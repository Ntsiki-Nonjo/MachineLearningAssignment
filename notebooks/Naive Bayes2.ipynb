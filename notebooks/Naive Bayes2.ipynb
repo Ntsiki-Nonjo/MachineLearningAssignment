{
 "cells": [
  {
   "cell_type": "markdown",
   "metadata": {},
   "source": [
    "# Python Implementation of Naive Bayes Classification"
   ]
  },
  {
   "cell_type": "code",
   "execution_count": 116,
   "metadata": {},
   "outputs": [
    {
     "data": {
      "text/html": [
       "<div>\n",
       "<style scoped>\n",
       "    .dataframe tbody tr th:only-of-type {\n",
       "        vertical-align: middle;\n",
       "    }\n",
       "\n",
       "    .dataframe tbody tr th {\n",
       "        vertical-align: top;\n",
       "    }\n",
       "\n",
       "    .dataframe thead th {\n",
       "        text-align: right;\n",
       "    }\n",
       "</style>\n",
       "<table border=\"1\" class=\"dataframe\">\n",
       "  <thead>\n",
       "    <tr style=\"text-align: right;\">\n",
       "      <th></th>\n",
       "      <th>AGE</th>\n",
       "      <th>WORKCLASS</th>\n",
       "      <th>FNLWGT</th>\n",
       "      <th>EDUCATION</th>\n",
       "      <th>EDUCATION-NUM</th>\n",
       "      <th>MARITAL-STATUS</th>\n",
       "      <th>OCCUPATION</th>\n",
       "      <th>RELATIONSHIP</th>\n",
       "      <th>RACE</th>\n",
       "      <th>SEX</th>\n",
       "      <th>CAPITAL-GAIN</th>\n",
       "      <th>CAPITAL-LOSS</th>\n",
       "      <th>HOURS-PER-WEEK</th>\n",
       "      <th>NATIVE-COUNTRY</th>\n",
       "      <th>CLASS</th>\n",
       "    </tr>\n",
       "  </thead>\n",
       "  <tbody>\n",
       "    <tr>\n",
       "      <th>0</th>\n",
       "      <td>1</td>\n",
       "      <td>6</td>\n",
       "      <td>2925</td>\n",
       "      <td>9</td>\n",
       "      <td>12</td>\n",
       "      <td>2</td>\n",
       "      <td>4</td>\n",
       "      <td>0</td>\n",
       "      <td>4</td>\n",
       "      <td>1</td>\n",
       "      <td>0</td>\n",
       "      <td>0</td>\n",
       "      <td>12</td>\n",
       "      <td>39</td>\n",
       "      <td>0</td>\n",
       "    </tr>\n",
       "    <tr>\n",
       "      <th>1</th>\n",
       "      <td>0</td>\n",
       "      <td>4</td>\n",
       "      <td>14085</td>\n",
       "      <td>11</td>\n",
       "      <td>8</td>\n",
       "      <td>0</td>\n",
       "      <td>6</td>\n",
       "      <td>1</td>\n",
       "      <td>4</td>\n",
       "      <td>1</td>\n",
       "      <td>0</td>\n",
       "      <td>0</td>\n",
       "      <td>39</td>\n",
       "      <td>39</td>\n",
       "      <td>0</td>\n",
       "    </tr>\n",
       "    <tr>\n",
       "      <th>2</th>\n",
       "      <td>1</td>\n",
       "      <td>4</td>\n",
       "      <td>15335</td>\n",
       "      <td>1</td>\n",
       "      <td>6</td>\n",
       "      <td>2</td>\n",
       "      <td>6</td>\n",
       "      <td>0</td>\n",
       "      <td>2</td>\n",
       "      <td>1</td>\n",
       "      <td>0</td>\n",
       "      <td>0</td>\n",
       "      <td>39</td>\n",
       "      <td>39</td>\n",
       "      <td>0</td>\n",
       "    </tr>\n",
       "    <tr>\n",
       "      <th>3</th>\n",
       "      <td>0</td>\n",
       "      <td>4</td>\n",
       "      <td>19354</td>\n",
       "      <td>9</td>\n",
       "      <td>12</td>\n",
       "      <td>2</td>\n",
       "      <td>10</td>\n",
       "      <td>5</td>\n",
       "      <td>2</td>\n",
       "      <td>0</td>\n",
       "      <td>0</td>\n",
       "      <td>0</td>\n",
       "      <td>39</td>\n",
       "      <td>5</td>\n",
       "      <td>0</td>\n",
       "    </tr>\n",
       "    <tr>\n",
       "      <th>4</th>\n",
       "      <td>0</td>\n",
       "      <td>4</td>\n",
       "      <td>17699</td>\n",
       "      <td>12</td>\n",
       "      <td>13</td>\n",
       "      <td>2</td>\n",
       "      <td>4</td>\n",
       "      <td>5</td>\n",
       "      <td>4</td>\n",
       "      <td>0</td>\n",
       "      <td>0</td>\n",
       "      <td>0</td>\n",
       "      <td>39</td>\n",
       "      <td>39</td>\n",
       "      <td>0</td>\n",
       "    </tr>\n",
       "  </tbody>\n",
       "</table>\n",
       "</div>"
      ],
      "text/plain": [
       "   AGE  WORKCLASS  FNLWGT  EDUCATION  EDUCATION-NUM  MARITAL-STATUS  \\\n",
       "0    1          6    2925          9             12               2   \n",
       "1    0          4   14085         11              8               0   \n",
       "2    1          4   15335          1              6               2   \n",
       "3    0          4   19354          9             12               2   \n",
       "4    0          4   17699         12             13               2   \n",
       "\n",
       "   OCCUPATION  RELATIONSHIP  RACE  SEX  CAPITAL-GAIN  CAPITAL-LOSS  \\\n",
       "0           4             0     4    1             0             0   \n",
       "1           6             1     4    1             0             0   \n",
       "2           6             0     2    1             0             0   \n",
       "3          10             5     2    0             0             0   \n",
       "4           4             5     4    0             0             0   \n",
       "\n",
       "   HOURS-PER-WEEK  NATIVE-COUNTRY  CLASS  \n",
       "0              12              39      0  \n",
       "1              39              39      0  \n",
       "2              39              39      0  \n",
       "3              39               5      0  \n",
       "4              39              39      0  "
      ]
     },
     "execution_count": 116,
     "metadata": {},
     "output_type": "execute_result"
    }
   ],
   "source": [
    "from sklearn.metrics import confusion_matrix \n",
    "import pandas as pd\n",
    "import numpy as np\n",
    "import seaborn as sns\n",
    "import matplotlib.pyplot as plt\n",
    "from sklearn.preprocessing import LabelEncoder\n",
    "from sklearn.model_selection import train_test_split \n",
    "import time\n",
    "    \n",
    "dataset = pd.read_csv(\"adultData.csv\")\n",
    "    \n",
    "#Add column names into pandas dataframe\n",
    "dataset.columns = [\"AGE\",\"WORKCLASS\",\"FNLWGT\",\"EDUCATION\",\"EDUCATION-NUM\",\"MARITAL-STATUS\",\"OCCUPATION\",\"RELATIONSHIP\",\"RACE\",\"SEX\",\"CAPITAL-GAIN\",\"CAPITAL-LOSS\",\"HOURS-PER-WEEK\",\"NATIVE-COUNTRY\",\"CLASS\"]\n",
    "dataset.AGE = dataset.AGE.astype(float)\n",
    "dataset = dataset.dropna(axis = 0, how ='any')\n",
    "#Drop unneccesary columns for the test data\n",
    "elements_to_drop = [\"EDUCATION\",\"NATIVE-COUNTRY\",\"FNLWGT\",\"RELATIONSHIP\"]\n",
    "#Encode categorical data\n",
    "dataset= dataset.apply(LabelEncoder().fit_transform)\n",
    "#Split age into categories\n",
    "dataset.loc[(dataset.AGE >0) & (dataset.AGE <=25), 'AGE'] = 0   \n",
    "dataset.loc[(dataset.AGE >25) & (dataset.AGE <=40), 'AGE'] = 1   \n",
    "dataset.loc[(dataset.AGE >40) & (dataset.AGE <=60), 'AGE'] = 2\n",
    "dataset.loc[(dataset.AGE >60) & (dataset.AGE <=80), 'AGE'] = 3\n",
    "dataset.loc[(dataset.AGE >80),'AGE'] = 4  \n",
    "y = dataset[\"CLASS\"]\n",
    "x=dataset.drop(elements_to_drop,axis=1)\n",
    " #Split Testing and Training data\n",
    "x_train,x_test,y_train,y_test = train_test_split(x,y,test_size=0.4,random_state=2) \n",
    "dataset.head()"
   ]
  },
  {
   "cell_type": "code",
   "execution_count": null,
   "metadata": {},
   "outputs": [],
   "source": []
  },
  {
   "cell_type": "code",
   "execution_count": 103,
   "metadata": {},
   "outputs": [],
   "source": [
    "#Actual data classes from test data\n",
    "Actual= x_test['CLASS']"
   ]
  },
  {
   "cell_type": "code",
   "execution_count": 104,
   "metadata": {},
   "outputs": [],
   "source": [
    "#Split into class 0 and class 1\n",
    "class1 = x_train[x_train['CLASS']==0]\n",
    "num_class1=class1.shape[0]\n",
    "class2 = x_train[x_train['CLASS']==1]\n",
    "num_class2=class2.shape[0]"
   ]
  },
  {
   "cell_type": "code",
   "execution_count": null,
   "metadata": {},
   "outputs": [],
   "source": []
  },
  {
   "cell_type": "markdown",
   "metadata": {},
   "source": [
    "## Use dummy data from class 1"
   ]
  },
  {
   "cell_type": "code",
   "execution_count": 105,
   "metadata": {},
   "outputs": [
    {
     "data": {
      "text/plain": [
       "AGE                   0\n",
       "WORKCLASS             4\n",
       "FNLWGT            17529\n",
       "EDUCATION            15\n",
       "EDUCATION-NUM         9\n",
       "MARITAL-STATUS        2\n",
       "OCCUPATION            4\n",
       "RELATIONSHIP          0\n",
       "RACE                  2\n",
       "SEX                   1\n",
       "CAPITAL-GAIN          0\n",
       "CAPITAL-LOSS          0\n",
       "HOURS-PER-WEEK       76\n",
       "NATIVE-COUNTRY       39\n",
       "CLASS                 1\n",
       "Name: 9, dtype: int64"
      ]
     },
     "execution_count": 105,
     "metadata": {},
     "output_type": "execute_result"
    }
   ],
   "source": [
    "rec=dataset.iloc[9]\n",
    "rec"
   ]
  },
  {
   "cell_type": "markdown",
   "metadata": {},
   "source": [
    "## Use dummy data from class 0\n"
   ]
  },
  {
   "cell_type": "code",
   "execution_count": 106,
   "metadata": {},
   "outputs": [
    {
     "data": {
      "text/plain": [
       "AGE                   0\n",
       "WORKCLASS             4\n",
       "FNLWGT            14085\n",
       "EDUCATION            11\n",
       "EDUCATION-NUM         8\n",
       "MARITAL-STATUS        0\n",
       "OCCUPATION            6\n",
       "RELATIONSHIP          1\n",
       "RACE                  4\n",
       "SEX                   1\n",
       "CAPITAL-GAIN          0\n",
       "CAPITAL-LOSS          0\n",
       "HOURS-PER-WEEK       39\n",
       "NATIVE-COUNTRY       39\n",
       "CLASS                 0\n",
       "Name: 1, dtype: int64"
      ]
     },
     "execution_count": 106,
     "metadata": {},
     "output_type": "execute_result"
    }
   ],
   "source": [
    "rec2 = dataset.iloc[1]\n",
    "rec2"
   ]
  },
  {
   "cell_type": "code",
   "execution_count": 107,
   "metadata": {},
   "outputs": [],
   "source": [
    "def NaiveBayes(data1, data2,record):\n",
    "    num_class1=data1.shape[0]\n",
    "    num_class2=data2.shape[0]\n",
    "    #Get priors from dataset\n",
    "    prior_class1 =num_class1/(num_class1+num_class2)\n",
    "    prior_class2 =num_class2/(num_class1+num_class2)\n",
    "    columns=data2.columns\n",
    "    prob_temp1=1\n",
    "    prob_temp2=1\n",
    "    for col in columns:\n",
    "        #Get probabillities of each attribute\n",
    "        prob_attr1=(data1[col].value_counts())/num_class1\n",
    "        prob_attr2=(data2[col].value_counts())/num_class2\n",
    "        try:\n",
    "            prob_class1=prob_attr1[record[col]]\n",
    "            prob_class2=prob_attr2[record[col]]\n",
    "        except KeyError:\n",
    "            prob_class1=1\n",
    "            prob_class2=1\n",
    "        #Multiply probabillities of each attribute    \n",
    "        prob_temp1=prob_temp1*prob_class1\n",
    "        prob_temp2=prob_temp2*prob_class2\n",
    "    \n",
    "    #Probability of data X under any Y (normalisation)    \n",
    "    deno=(prob_temp1*prior_class1)+(prob_temp2*prior_class2) \n",
    "    prob_c1=(prob_temp1*prior_class1)/deno\n",
    "    prob_c2=(prob_temp2*prior_class2)/deno\n",
    "    \n",
    "    #Predictions of classes based on highest probabilities\n",
    "    if (prob_c1>prob_c2):\n",
    "        prediction=0\n",
    "    else:\n",
    "        prediction=1\n",
    "        \n",
    "    return prediction"
   ]
  },
  {
   "cell_type": "markdown",
   "metadata": {},
   "source": [
    "## Test if Naive Bayes classifies dummy data correctly"
   ]
  },
  {
   "cell_type": "code",
   "execution_count": 108,
   "metadata": {},
   "outputs": [
    {
     "data": {
      "text/plain": [
       "1"
      ]
     },
     "execution_count": 108,
     "metadata": {},
     "output_type": "execute_result"
    }
   ],
   "source": [
    "NaiveBayes(class1,class2,rec)\n"
   ]
  },
  {
   "cell_type": "code",
   "execution_count": 109,
   "metadata": {},
   "outputs": [
    {
     "data": {
      "text/plain": [
       "0"
      ]
     },
     "execution_count": 109,
     "metadata": {},
     "output_type": "execute_result"
    }
   ],
   "source": [
    "NaiveBayes(class1,class2,rec2)\n"
   ]
  },
  {
   "cell_type": "markdown",
   "metadata": {},
   "source": [
    "### As seen above the algorithm classifies dummy data correctly\n",
    "\n",
    "Now let us test the algorithm with our unbiased test and training data"
   ]
  },
  {
   "cell_type": "code",
   "execution_count": 118,
   "metadata": {
    "scrolled": false
   },
   "outputs": [
    {
     "name": "stdout",
     "output_type": "stream",
     "text": [
      "Confusion Matrix:\n",
      "\n",
      "[[8854 1025]\n",
      " [1222 1923]]\n",
      "Total execution time:  260.64484572410583\n"
     ]
    }
   ],
   "source": [
    "Predicted=[]\n",
    "x_test.index = range(len(x_test))\n",
    "start_time = time.time()\n",
    "for i in range(len(x_test)):\n",
    "    Predicted.append(NaiveBayes(class1,class2,x_test.iloc[i,:]))\n",
    "result=confusion_matrix(Actual,Predicted)\n",
    "elapsed_time = time.time() - start_time\n",
    "print(\"Confusion Matrix:\")\n",
    "print(\"\")\n",
    "print(result)\n",
    "print(\"Total execution time: \", elapsed_time)"
   ]
  },
  {
   "cell_type": "code",
   "execution_count": 111,
   "metadata": {},
   "outputs": [
    {
     "data": {
      "text/plain": [
       "82.74723587223588"
      ]
     },
     "execution_count": 111,
     "metadata": {},
     "output_type": "execute_result"
    }
   ],
   "source": [
    "Accuracy = (result[0][0]+result[1][1])/(result[0][0]+result[1][1]+result[0][1]+result[1][0]) * 100\n",
    "Accuracy"
   ]
  },
  {
   "cell_type": "code",
   "execution_count": null,
   "metadata": {},
   "outputs": [],
   "source": []
  }
 ],
 "metadata": {
  "kernelspec": {
   "display_name": "Python 3",
   "language": "python",
   "name": "python3"
  },
  "language_info": {
   "codemirror_mode": {
    "name": "ipython",
    "version": 3
   },
   "file_extension": ".py",
   "mimetype": "text/x-python",
   "name": "python",
   "nbconvert_exporter": "python",
   "pygments_lexer": "ipython3",
   "version": "3.6.5"
  }
 },
 "nbformat": 4,
 "nbformat_minor": 2
}
